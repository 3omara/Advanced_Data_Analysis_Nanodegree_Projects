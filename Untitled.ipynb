{
 "cells": [
  {
   "cell_type": "markdown",
   "metadata": {},
   "source": [
    "# PISA 2012 Data Analysis\n",
    "## by Youssef Abdelkader\n",
    "\n",
    "\n",
    "## PISA 2012\n",
    "\n",
    "PISA stands for Programme for International Student Assessment which is a study aimed at assessing the scholar performance and educational level in various countries through student questionares and measuring the performance of 15-year-old students on various subjects.\n",
    "\n",
    "\n",
    "## Summary of Findings\n",
    "\n",
    "- Number of books present in household correlates positively with the average grade index of students\n",
    "\n",
    "- Overall, females outperform males in maths and sciences in most of the countries (64 out of 68 countries)\n",
    "\n",
    "- Age influences grade index. An older classmate has a higher probability of academically performing better than a younger one.\n",
    "\n",
    "- Wealth influences grade index. Climbing the grade index ladder is easier for the financially priviledged students.\n",
    "\n",
    "- Grade index correlates positively with the student's use of internet.\n",
    "\n",
    "- Students' attributes to failure do not significantly affect their educational performance.\n",
    "\n",
    "- Students' degree of belonging to their schools weakly correlates with their educational performance.\n",
    "\n",
    "\n",
    "## Key Insights for Presentation\n",
    "\n",
    "I have chosen the findings which address some of the controversial aspects about education:\n",
    "\n",
    "- Overall, females outperform males in maths and sciences in most of the countries (64 out of 68 countries)\n",
    "\n",
    "- Age influences grade index. An older classmate has a higher probability of academically performing better than a younger one.\n",
    "\n",
    "- Wealth influences grade index. Climbing the grade index ladder is easier for the financially priviledged students.\n",
    "\n",
    "## Resources:\n",
    "\n",
    "PISA 2012 Technical Report - OECD\n"
   ]
  }
 ],
 "metadata": {
  "kernelspec": {
   "display_name": "Python 3",
   "language": "python",
   "name": "python3"
  },
  "language_info": {
   "codemirror_mode": {
    "name": "ipython",
    "version": 3
   },
   "file_extension": ".py",
   "mimetype": "text/x-python",
   "name": "python",
   "nbconvert_exporter": "python",
   "pygments_lexer": "ipython3",
   "version": "3.9.1"
  }
 },
 "nbformat": 4,
 "nbformat_minor": 4
}
